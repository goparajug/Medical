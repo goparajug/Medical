{
 "cells": [
  {
   "cell_type": "markdown",
   "metadata": {},
   "source": [
    "<a href=\"https://www.facebook.com/codemakerz\"><img src=\"https://scontent.ffjr1-4.fna.fbcdn.net/v/t1.0-9/36189148_736466693143793_2172101683281133568_n.png?_nc_cat=107&_nc_eui2=AeHzxv3SUcQBOfijLP-cEnHkX4z9XQXdeau__2MlErWZ1x07aZ1zx1PzJUDDxL6cpr7oPqYiifggXDptgtP8W5iCoDRjcdILDBYZ5Ig40dqi8Q&_nc_oc=AQmMCNXdzelFB2rdtpk8wN8nC410Wm2yKupYfYS1FxHNejTF0Jhr1G3WIZORKRF3TvFpohMB8Puw29Txxan8CW05&_nc_ht=scontent.ffjr1-4.fna&oh=7b13627e991a4d1b508923041bd7bc22&oe=5D8A7B03\" />\n",
    "</a>\n",
    "\n",
    "\n",
    "You can download:\n",
    "> Datasets at: https://raw.githubusercontent.com/martandsingh/datasets/master/cars/automobile_preprocessed.csv<br/>\n",
    "> Git Repo for dataset: https://github.com/martandsingh/datasets.git <br/>\n",
    "> Jupyter Notebook(Code): https://github.com/martandsingh/dataanalytics <br/>\n",
    "\n"
   ]
  },
  {
   "cell_type": "markdown",
   "metadata": {},
   "source": [
    "In this module we will understand how to make a basic regression model and try to understand:\n",
    "1. Linear Regression\n",
    "2. Multiple regression (Coming Soon)\n",
    "3. Polynomial regression (Coming Soon) \n",
    "4. Perfomrmance of the model (Coming Soon)\n"
   ]
  },
  {
   "cell_type": "code",
   "execution_count": 35,
   "metadata": {},
   "outputs": [],
   "source": [
    "# Import & load db as discussed earlier\n",
    "import numpy as np\n",
    "import pandas as pd\n",
    "import matplotlib.pyplot as plt\n",
    "import seaborn as sns\n",
    "%matplotlib inline"
   ]
  },
  {
   "cell_type": "code",
   "execution_count": 2,
   "metadata": {},
   "outputs": [],
   "source": [
    "# Load data\n",
    "# CSV file path. IT can be any resource.\n",
    "file_name = 'https://raw.githubusercontent.com/martandsingh/datasets/master/cars/automobile_preprocessed.csv'\n",
    "df = pd.read_csv(file_name)"
   ]
  },
  {
   "cell_type": "code",
   "execution_count": 8,
   "metadata": {},
   "outputs": [
    {
     "data": {
      "text/plain": [
       "Index(['symboling', 'normalized-losses', 'make', 'aspiration', 'num-of-doors',\n",
       "       'body-style', 'drive-wheels', 'engine-location', 'wheel-base', 'length',\n",
       "       'width', 'height', 'curb-weight', 'engine-type', 'num-of-cylinders',\n",
       "       'engine-size', 'fuel-system', 'bore', 'stroke', 'compression-ratio',\n",
       "       'horsepower', 'peak-rpm', 'city-mpg', 'highway-mpg', 'price',\n",
       "       'city-L/100km', 'horsepower-binned', 'diesel', 'gas'],\n",
       "      dtype='object')"
      ]
     },
     "execution_count": 8,
     "metadata": {},
     "output_type": "execute_result"
    }
   ],
   "source": [
    "df.head() # We are ready to go.\n",
    "df.columns"
   ]
  },
  {
   "cell_type": "markdown",
   "metadata": {},
   "source": [
    "<h2>What is Regression?</h2>\n",
    "Ans. Regression analysis is a set of statistical processes for estimating the relationships among variables (Wikipedia)\n",
    "\n",
    "In simple words, in our database we have different columns. So regression analysis tell your the relationship between\n",
    "two or more variables.\n",
    "for example: In general lets say we have a database of cars and there two different columns engine-capacity and mileage. By using regression on both the columns we can find how engine-capacity affects the mileage of cars. \n",
    "\n",
    "Usually people say high HP will result you in less mileage... How can they say that?\n",
    "So if you have that kind of dataset, you can actually find the relationship between engine-capacity and mileage using regression methods.\n",
    "\n",
    "<h2>What is Linear Regression?</h2>\n",
    "Ans. Linear regression is the regresion analysis between two variable, just like our above case.\n",
    "\n",
    "<h2>What is Multiple Regression?</h2>\n",
    "Ans. Sometimes one variable or feature is not enough to predict the value of target variable. In that case we need to add more features or columns to calculate the result. The case where we use regression analysis is done by more than one feature or columns is called multiple."
   ]
  },
  {
   "cell_type": "code",
   "execution_count": 5,
   "metadata": {},
   "outputs": [],
   "source": [
    "# Now lets do some code..."
   ]
  },
  {
   "cell_type": "markdown",
   "metadata": {},
   "source": [
    "<h3>Linear Regression</h3>"
   ]
  },
  {
   "cell_type": "code",
   "execution_count": 6,
   "metadata": {},
   "outputs": [],
   "source": [
    "# As we told linear regression is the regression analysis or finding relationship between two variables.\n",
    "# Or you can say in this case we show the relationship between a single feature and target value.\n",
    "# we all in our schools have seen equation of line:\n",
    "#. Y = mx + c\n",
    "# Where m = coefficient , c = intercept, x = independent variable/predictor, y = target variable/dependent variable.\n",
    "# So is linear regression a line or what?\n",
    "\n",
    "# As name suggest, linear regression will help you to find relationship between two variable in form of a line.\n"
   ]
  },
  {
   "cell_type": "code",
   "execution_count": 7,
   "metadata": {},
   "outputs": [],
   "source": [
    "# To use linear regression we will use and inbuit library sklearn.\n",
    "from sklearn.linear_model import LinearRegression # Class imported"
   ]
  },
  {
   "cell_type": "code",
   "execution_count": 9,
   "metadata": {},
   "outputs": [],
   "source": [
    "lm_obj = LinearRegression() # Object of Linear Regression"
   ]
  },
  {
   "cell_type": "code",
   "execution_count": 28,
   "metadata": {},
   "outputs": [],
   "source": [
    "X = df[[\"engine-size\"]] # Independent Variable\n",
    "Y = df[\"price\"] # Target/dependent variable"
   ]
  },
  {
   "cell_type": "code",
   "execution_count": 29,
   "metadata": {},
   "outputs": [
    {
     "data": {
      "text/plain": [
       "LinearRegression(copy_X=True, fit_intercept=True, n_jobs=None,\n",
       "         normalize=False)"
      ]
     },
     "execution_count": 29,
     "metadata": {},
     "output_type": "execute_result"
    }
   ],
   "source": [
    "lm_obj.fit(X,Y) # We need to fit first. Fit is like you are training your model."
   ]
  },
  {
   "cell_type": "code",
   "execution_count": 44,
   "metadata": {},
   "outputs": [
    {
     "data": {
      "text/plain": [
       "array([13728.4631336 , 13728.4631336 , 17399.38347881, 10224.40280408,\n",
       "       14729.62322775])"
      ]
     },
     "execution_count": 44,
     "metadata": {},
     "output_type": "execute_result"
    }
   ],
   "source": [
    "Y_pred = lm_obj.predict(X) # We are predicting the price for all the given horsepower. We already have prices but \n",
    "# we are predicting prices for the same values so thatwe could compare them.\n",
    "Y_pred[0:5] # Y_pred is the array containing all the predicted values"
   ]
  },
  {
   "cell_type": "code",
   "execution_count": 31,
   "metadata": {},
   "outputs": [
    {
     "data": {
      "text/plain": [
       "array([166.86001569])"
      ]
     },
     "execution_count": 31,
     "metadata": {},
     "output_type": "execute_result"
    }
   ],
   "source": [
    "# Remember y = mx+c\n",
    "# how to get value of m(coeff) & c(intercept)\n",
    "lm_obj.coef_"
   ]
  },
  {
   "cell_type": "code",
   "execution_count": 32,
   "metadata": {},
   "outputs": [
    {
     "data": {
      "text/plain": [
       "-7963.338906281049"
      ]
     },
     "execution_count": 32,
     "metadata": {},
     "output_type": "execute_result"
    }
   ],
   "source": [
    "lm_obj.intercept_"
   ]
  },
  {
   "cell_type": "code",
   "execution_count": 33,
   "metadata": {},
   "outputs": [],
   "source": [
    "# our equation is now:\n",
    "Y = 166.86001569*X + (-7963.338906281049)"
   ]
  },
  {
   "cell_type": "code",
   "execution_count": 45,
   "metadata": {},
   "outputs": [
    {
     "data": {
      "text/plain": [
       "(0, 56068.9859728277)"
      ]
     },
     "execution_count": 45,
     "metadata": {},
     "output_type": "execute_result"
    },
    {
     "data": {
      "image/png": "[encoded data removed]",
      "text/plain": [
       "<Figure size 864x720 with 1 Axes>"
      ]
     },
     "metadata": {
      "needs_background": "light"
     },
     "output_type": "display_data"
    }
   ],
   "source": [
    "# Now we got the values and equation but still the concept is not clear?\n",
    "# Because we can see values but we can not obviously compare 1000 or more variables one by one. \n",
    "# For this we should take help of visualization. It helps you to understand exactly what your model just did?\n",
    "\n",
    "width = 12 # width of the visualization\n",
    "height = 10 # height of the visualization\n",
    "plt.figure(figsize=(width, height)) # Setting width and height with mtplotlib.pyplot obj\n",
    "sns.regplot(x=\"engine-size\", y=\"price\", data=df) # visualizing using seaborn\n",
    "plt.title('Engine Size VS Price') # Visualization title\n",
    "plt.xlabel('Price (in dollars)') # x-axis label\n",
    "plt.ylabel('engine-size') # y-axis label\n",
    "plt.ylim(0,) # settin the minimum value of y axis."
   ]
  },
  {
   "cell_type": "code",
   "execution_count": 37,
   "metadata": {},
   "outputs": [],
   "source": [
    "# Now we can see the blue line is out prediction, which is increasing as X increases, This show we have a\n",
    "# positive regression between engine-size and price. This means as engine-size increases, price also increases.\n",
    "# See now you have mathemetical proof to argue with someone.\n",
    "\n",
    "# One more thing we should notice, all dots are real values. So you should observer whether your ral values are\n",
    "# uniformely distrubuted around regression line or not. In this case dots are distributed around line, which shows\n",
    "# our regression is good. "
   ]
  },
  {
   "cell_type": "code",
   "execution_count": 47,
   "metadata": {},
   "outputs": [
    {
     "data": {
      "text/plain": [
       "326"
      ]
     },
     "execution_count": 47,
     "metadata": {},
     "output_type": "execute_result"
    }
   ],
   "source": [
    "df[\"engine-size\"].max() # max value of engine-size is 326"
   ]
  },
  {
   "cell_type": "code",
   "execution_count": 41,
   "metadata": {},
   "outputs": [
    {
     "data": {
      "text/plain": [
       "array([58780.66737029])"
      ]
     },
     "execution_count": 41,
     "metadata": {},
     "output_type": "execute_result"
    }
   ],
   "source": [
    "# Lets predict a value which is not there in our dataframe.\n",
    "# lets calculate price for engine-size 400 which is not there in above dataframe\n",
    "lm_obj.predict([[400]])"
   ]
  },
  {
   "cell_type": "code",
   "execution_count": null,
   "metadata": {},
   "outputs": [],
   "source": [
    "# SO you can see the price of car with engine-size around 300 is somewhere between 40000 to 50000, now we just\n",
    "# calculated for engine-size 400 which is 58780.66 which shows a positive linear behaviour which somewhere is \n",
    "# correct as per our model."
   ]
  }
 ],
 "metadata": {
  "kernelspec": {
   "display_name": "Python 3",
   "language": "python",
   "name": "python3"
  },
  "language_info": {
   "codemirror_mode": {
    "name": "ipython",
    "version": 3
   },
   "file_extension": ".py",
   "mimetype": "text/x-python",
   "name": "python",
   "nbconvert_exporter": "python",
   "pygments_lexer": "ipython3",
   "version": "3.7.3"
  }
 },
 "nbformat": 4,
 "nbformat_minor": 2
}
