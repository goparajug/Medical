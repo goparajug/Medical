{
 "cells": [
  {
   "cell_type": "code",
   "execution_count": null,
   "metadata": {},
   "outputs": [],
   "source": []
  },
  {
   "cell_type": "code",
   "execution_count": 1,
   "metadata": {},
   "outputs": [],
   "source": [
    "import pandas as pd\n",
    "import numpy as np\n",
    "import seaborn as sns\n",
    "import matplotlib.pyplot as plt\n",
    "%matplotlib inline"
   ]
  },
  {
   "cell_type": "code",
   "execution_count": 2,
   "metadata": {},
   "outputs": [
    {
     "data": {
      "text/html": [
       "<div>\n",
       "<style scoped>\n",
       "    .dataframe tbody tr th:only-of-type {\n",
       "        vertical-align: middle;\n",
       "    }\n",
       "\n",
       "    .dataframe tbody tr th {\n",
       "        vertical-align: top;\n",
       "    }\n",
       "\n",
       "    .dataframe thead th {\n",
       "        text-align: right;\n",
       "    }\n",
       "</style>\n",
       "<table border=\"1\" class=\"dataframe\">\n",
       "  <thead>\n",
       "    <tr style=\"text-align: right;\">\n",
       "      <th></th>\n",
       "      <th>Age_Group</th>\n",
       "      <th>Urban_Male</th>\n",
       "      <th>Urban_Female</th>\n",
       "      <th>Urban_Total</th>\n",
       "      <th>Rural_Male</th>\n",
       "      <th>Rural_Female</th>\n",
       "      <th>Rural_Total</th>\n",
       "      <th>Nepal_Male</th>\n",
       "      <th>Nepal_Female</th>\n",
       "      <th>Nepal_Total</th>\n",
       "    </tr>\n",
       "  </thead>\n",
       "  <tbody>\n",
       "    <tr>\n",
       "      <th>0</th>\n",
       "      <td>05-09 years</td>\n",
       "      <td>56.5</td>\n",
       "      <td>55.4</td>\n",
       "      <td>56.0</td>\n",
       "      <td>48.7</td>\n",
       "      <td>46.9</td>\n",
       "      <td>47.8</td>\n",
       "      <td>51.7</td>\n",
       "      <td>50.1</td>\n",
       "      <td>51.0</td>\n",
       "    </tr>\n",
       "    <tr>\n",
       "      <th>1</th>\n",
       "      <td>10-14 years</td>\n",
       "      <td>94.1</td>\n",
       "      <td>92.3</td>\n",
       "      <td>93.2</td>\n",
       "      <td>92.3</td>\n",
       "      <td>88.9</td>\n",
       "      <td>90.7</td>\n",
       "      <td>93.0</td>\n",
       "      <td>90.2</td>\n",
       "      <td>91.6</td>\n",
       "    </tr>\n",
       "    <tr>\n",
       "      <th>2</th>\n",
       "      <td>15-19 years</td>\n",
       "      <td>97.0</td>\n",
       "      <td>95.7</td>\n",
       "      <td>96.3</td>\n",
       "      <td>96.0</td>\n",
       "      <td>89.2</td>\n",
       "      <td>92.6</td>\n",
       "      <td>96.4</td>\n",
       "      <td>91.8</td>\n",
       "      <td>94.1</td>\n",
       "    </tr>\n",
       "    <tr>\n",
       "      <th>3</th>\n",
       "      <td>20-24 years</td>\n",
       "      <td>94.4</td>\n",
       "      <td>91.7</td>\n",
       "      <td>92.8</td>\n",
       "      <td>93.7</td>\n",
       "      <td>84.1</td>\n",
       "      <td>88.2</td>\n",
       "      <td>94.0</td>\n",
       "      <td>87.6</td>\n",
       "      <td>90.3</td>\n",
       "    </tr>\n",
       "    <tr>\n",
       "      <th>4</th>\n",
       "      <td>25-29 years</td>\n",
       "      <td>94.1</td>\n",
       "      <td>83.4</td>\n",
       "      <td>88.0</td>\n",
       "      <td>87.8</td>\n",
       "      <td>68.4</td>\n",
       "      <td>76.5</td>\n",
       "      <td>90.8</td>\n",
       "      <td>75.4</td>\n",
       "      <td>81.9</td>\n",
       "    </tr>\n",
       "  </tbody>\n",
       "</table>\n",
       "</div>"
      ],
      "text/plain": [
       "      Age_Group  Urban_Male  Urban_Female  Urban_Total  Rural_Male  \\\n",
       "0  05-09 years         56.5          55.4         56.0        48.7   \n",
       "1  10-14 years         94.1          92.3         93.2        92.3   \n",
       "2  15-19 years         97.0          95.7         96.3        96.0   \n",
       "3  20-24 years         94.4          91.7         92.8        93.7   \n",
       "4  25-29 years         94.1          83.4         88.0        87.8   \n",
       "\n",
       "   Rural_Female  Rural_Total  Nepal_Male  Nepal_Female  Nepal_Total  \n",
       "0          46.9         47.8        51.7          50.1         51.0  \n",
       "1          88.9         90.7        93.0          90.2         91.6  \n",
       "2          89.2         92.6        96.4          91.8         94.1  \n",
       "3          84.1         88.2        94.0          87.6         90.3  \n",
       "4          68.4         76.5        90.8          75.4         81.9  "
      ]
     },
     "execution_count": 2,
     "metadata": {},
     "output_type": "execute_result"
    }
   ],
   "source": [
    "df = pd.read_csv(\"https://raw.githubusercontent.com/martandsingh/datasets/master/LiteracyRate.csv.xls\")\n",
    "df.head()"
   ]
  },
  {
   "cell_type": "code",
   "execution_count": 6,
   "metadata": {},
   "outputs": [
    {
     "data": {
      "text/plain": [
       "array(['05-09 years ', '10-14 years ', '15-19 years ', '20-24 years ',\n",
       "       '25-29 years ', '30-34 years ', '35-39 years ', '40-44 years ',\n",
       "       '45-49 years ', '50-54 years ', '55-59 years ', '60 years & over ',\n",
       "       'Total'], dtype=object)"
      ]
     },
     "execution_count": 6,
     "metadata": {},
     "output_type": "execute_result"
    }
   ],
   "source": [
    "df[\"Age_Group\"].unique() # It will return an array of all the unique age groups"
   ]
  },
  {
   "cell_type": "code",
   "execution_count": 7,
   "metadata": {},
   "outputs": [
    {
     "data": {
      "text/plain": [
       "Index(['Age_Group', 'Urban_Male', 'Urban_Female', 'Urban_Total', 'Rural_Male',\n",
       "       'Rural_Female', 'Rural_Total', 'Nepal_Male', 'Nepal_Female',\n",
       "       'Nepal_Total'],\n",
       "      dtype='object')"
      ]
     },
     "execution_count": 7,
     "metadata": {},
     "output_type": "execute_result"
    }
   ],
   "source": [
    "df.columns"
   ]
  },
  {
   "cell_type": "code",
   "execution_count": 8,
   "metadata": {},
   "outputs": [],
   "source": [
    "cols = ['Age_Group', 'Urban_Male', 'Urban_Female', 'Urban_Total', 'Rural_Male',\n",
    "       'Rural_Female', 'Rural_Total', 'Nepal_Male', 'Nepal_Female',\n",
    "       'Nepal_Total']"
   ]
  },
  {
   "cell_type": "code",
   "execution_count": 11,
   "metadata": {},
   "outputs": [],
   "source": [
    "df_new = pd.DataFrame(data=df, columns = cols)"
   ]
  },
  {
   "cell_type": "code",
   "execution_count": 12,
   "metadata": {},
   "outputs": [
    {
     "data": {
      "text/html": [
       "<div>\n",
       "<style scoped>\n",
       "    .dataframe tbody tr th:only-of-type {\n",
       "        vertical-align: middle;\n",
       "    }\n",
       "\n",
       "    .dataframe tbody tr th {\n",
       "        vertical-align: top;\n",
       "    }\n",
       "\n",
       "    .dataframe thead th {\n",
       "        text-align: right;\n",
       "    }\n",
       "</style>\n",
       "<table border=\"1\" class=\"dataframe\">\n",
       "  <thead>\n",
       "    <tr style=\"text-align: right;\">\n",
       "      <th></th>\n",
       "      <th>Age_Group</th>\n",
       "      <th>Urban_Male</th>\n",
       "      <th>Urban_Female</th>\n",
       "      <th>Urban_Total</th>\n",
       "      <th>Rural_Male</th>\n",
       "      <th>Rural_Female</th>\n",
       "      <th>Rural_Total</th>\n",
       "      <th>Nepal_Male</th>\n",
       "      <th>Nepal_Female</th>\n",
       "      <th>Nepal_Total</th>\n",
       "    </tr>\n",
       "  </thead>\n",
       "  <tbody>\n",
       "    <tr>\n",
       "      <th>0</th>\n",
       "      <td>05-09 years</td>\n",
       "      <td>56.5</td>\n",
       "      <td>55.4</td>\n",
       "      <td>56.0</td>\n",
       "      <td>48.7</td>\n",
       "      <td>46.9</td>\n",
       "      <td>47.8</td>\n",
       "      <td>51.7</td>\n",
       "      <td>50.1</td>\n",
       "      <td>51.0</td>\n",
       "    </tr>\n",
       "    <tr>\n",
       "      <th>1</th>\n",
       "      <td>10-14 years</td>\n",
       "      <td>94.1</td>\n",
       "      <td>92.3</td>\n",
       "      <td>93.2</td>\n",
       "      <td>92.3</td>\n",
       "      <td>88.9</td>\n",
       "      <td>90.7</td>\n",
       "      <td>93.0</td>\n",
       "      <td>90.2</td>\n",
       "      <td>91.6</td>\n",
       "    </tr>\n",
       "    <tr>\n",
       "      <th>2</th>\n",
       "      <td>15-19 years</td>\n",
       "      <td>97.0</td>\n",
       "      <td>95.7</td>\n",
       "      <td>96.3</td>\n",
       "      <td>96.0</td>\n",
       "      <td>89.2</td>\n",
       "      <td>92.6</td>\n",
       "      <td>96.4</td>\n",
       "      <td>91.8</td>\n",
       "      <td>94.1</td>\n",
       "    </tr>\n",
       "    <tr>\n",
       "      <th>3</th>\n",
       "      <td>20-24 years</td>\n",
       "      <td>94.4</td>\n",
       "      <td>91.7</td>\n",
       "      <td>92.8</td>\n",
       "      <td>93.7</td>\n",
       "      <td>84.1</td>\n",
       "      <td>88.2</td>\n",
       "      <td>94.0</td>\n",
       "      <td>87.6</td>\n",
       "      <td>90.3</td>\n",
       "    </tr>\n",
       "    <tr>\n",
       "      <th>4</th>\n",
       "      <td>25-29 years</td>\n",
       "      <td>94.1</td>\n",
       "      <td>83.4</td>\n",
       "      <td>88.0</td>\n",
       "      <td>87.8</td>\n",
       "      <td>68.4</td>\n",
       "      <td>76.5</td>\n",
       "      <td>90.8</td>\n",
       "      <td>75.4</td>\n",
       "      <td>81.9</td>\n",
       "    </tr>\n",
       "  </tbody>\n",
       "</table>\n",
       "</div>"
      ],
      "text/plain": [
       "      Age_Group  Urban_Male  Urban_Female  Urban_Total  Rural_Male  \\\n",
       "0  05-09 years         56.5          55.4         56.0        48.7   \n",
       "1  10-14 years         94.1          92.3         93.2        92.3   \n",
       "2  15-19 years         97.0          95.7         96.3        96.0   \n",
       "3  20-24 years         94.4          91.7         92.8        93.7   \n",
       "4  25-29 years         94.1          83.4         88.0        87.8   \n",
       "\n",
       "   Rural_Female  Rural_Total  Nepal_Male  Nepal_Female  Nepal_Total  \n",
       "0          46.9         47.8        51.7          50.1         51.0  \n",
       "1          88.9         90.7        93.0          90.2         91.6  \n",
       "2          89.2         92.6        96.4          91.8         94.1  \n",
       "3          84.1         88.2        94.0          87.6         90.3  \n",
       "4          68.4         76.5        90.8          75.4         81.9  "
      ]
     },
     "execution_count": 12,
     "metadata": {},
     "output_type": "execute_result"
    }
   ],
   "source": [
    "df_new.head()"
   ]
  },
  {
   "cell_type": "code",
   "execution_count": 23,
   "metadata": {},
   "outputs": [
    {
     "data": {
      "image/png": "[encoded data removed]",
      "text/plain": [
       "<Figure size 432x360 with 1 Axes>"
      ]
     },
     "metadata": {
      "needs_background": "light"
     },
     "output_type": "display_data"
    }
   ],
   "source": [
    "plt.figure(figsize=(6,5))\n",
    "sns.barplot( df['Nepal_Total'],df['Age_Group'], alpha=0.8)\n",
    "plt.xticks(rotation='horizontal')\n",
    "plt.xlabel('Total Population', fontsize=14)\n",
    "plt.ylabel('Age Groups', fontsize=14)\n",
    "plt.title(\"Literacy Rate Vs Population\", fontsize=16)\n",
    "plt.show()"
   ]
  },
  {
   "cell_type": "code",
   "execution_count": null,
   "metadata": {},
   "outputs": [],
   "source": []
  }
 ],
 "metadata": {
  "kernelspec": {
   "display_name": "Python 3",
   "language": "python",
   "name": "python3"
  },
  "language_info": {
   "codemirror_mode": {
    "name": "ipython",
    "version": 3
   },
   "file_extension": ".py",
   "mimetype": "text/x-python",
   "name": "python",
   "nbconvert_exporter": "python",
   "pygments_lexer": "ipython3",
   "version": "3.7.3"
  }
 },
 "nbformat": 4,
 "nbformat_minor": 2
}
