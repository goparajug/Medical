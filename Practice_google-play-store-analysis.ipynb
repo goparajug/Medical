{
 "cells": [
  {
   "cell_type": "markdown",
   "metadata": {},
   "source": [
    "### Thank you for visting my code. If there is anything missing or wrong, please feel free to inform me. Also like my page on fb: https://www.facebook.com/codemakerz\n",
    "\n",
    "\n",
    "#### Stay tuned for the more updates in the same notebook."
   ]
  },
  {
   "cell_type": "code",
   "execution_count": 1,
   "metadata": {
    "_cell_guid": "b1076dfc-b9ad-4769-8c92-a6c4dae69d19",
    "_uuid": "8f2839f25d086af736a60e9eeb907d3b93b6e0e5"
   },
   "outputs": [
    {
     "name": "stdout",
     "output_type": "stream",
     "text": [
      "['googleplaystore_user_reviews.csv', 'license.txt', 'googleplaystore.csv']\n"
     ]
    }
   ],
   "source": [
    "# This Python 3 environment comes with many helpful analytics libraries installed\n",
    "# It is defined by the kaggle/python docker image: https://github.com/kaggle/docker-python\n",
    "# For example, here's several helpful packages to load in \n",
    "\n",
    "import numpy as np # linear algebra\n",
    "import pandas as pd # data processing, CSV file I/O (e.g. pd.read_csv)\n",
    "import matplotlib.pyplot as plt\n",
    "# Input data files are available in the \"../input/\" directory.\n",
    "# For example, running this (by clicking run or pressing Shift+Enter) will list the files in the input directory\n",
    "import os\n",
    "print(os.listdir(\"../input\"))\n",
    "# LIKE US ON FB: https://www.facebook.com/codemakerz\n",
    "# Any results you write to the current directory are saved as output."
   ]
  },
  {
   "cell_type": "code",
   "execution_count": 2,
   "metadata": {
    "_cell_guid": "79c7e3d0-c299-4dcb-8224-4455121ee9b0",
    "_uuid": "d629ff2d2480ee46fbb7e2d37f6b5fab8052498a"
   },
   "outputs": [],
   "source": [
    "# load data\n",
    "df = pd.read_csv(\"../input/googleplaystore.csv\", encoding='utf-8')"
   ]
  },
  {
   "cell_type": "code",
   "execution_count": 3,
   "metadata": {},
   "outputs": [
    {
     "data": {
      "text/html": [
       "<div>\n",
       "<style scoped>\n",
       "    .dataframe tbody tr th:only-of-type {\n",
       "        vertical-align: middle;\n",
       "    }\n",
       "\n",
       "    .dataframe tbody tr th {\n",
       "        vertical-align: top;\n",
       "    }\n",
       "\n",
       "    .dataframe thead th {\n",
       "        text-align: right;\n",
       "    }\n",
       "</style>\n",
       "<table border=\"1\" class=\"dataframe\">\n",
       "  <thead>\n",
       "    <tr style=\"text-align: right;\">\n",
       "      <th></th>\n",
       "      <th>App</th>\n",
       "      <th>Category</th>\n",
       "      <th>Rating</th>\n",
       "      <th>Reviews</th>\n",
       "      <th>Size</th>\n",
       "      <th>Installs</th>\n",
       "      <th>Type</th>\n",
       "      <th>Price</th>\n",
       "      <th>Content Rating</th>\n",
       "      <th>Genres</th>\n",
       "      <th>Last Updated</th>\n",
       "      <th>Current Ver</th>\n",
       "      <th>Android Ver</th>\n",
       "    </tr>\n",
       "  </thead>\n",
       "  <tbody>\n",
       "    <tr>\n",
       "      <th>0</th>\n",
       "      <td>Photo Editor &amp; Candy Camera &amp; Grid &amp; ScrapBook</td>\n",
       "      <td>ART_AND_DESIGN</td>\n",
       "      <td>4.1</td>\n",
       "      <td>159</td>\n",
       "      <td>19M</td>\n",
       "      <td>10,000+</td>\n",
       "      <td>Free</td>\n",
       "      <td>0</td>\n",
       "      <td>Everyone</td>\n",
       "      <td>Art &amp; Design</td>\n",
       "      <td>January 7, 2018</td>\n",
       "      <td>1.0.0</td>\n",
       "      <td>4.0.3 and up</td>\n",
       "    </tr>\n",
       "    <tr>\n",
       "      <th>1</th>\n",
       "      <td>Coloring book moana</td>\n",
       "      <td>ART_AND_DESIGN</td>\n",
       "      <td>3.9</td>\n",
       "      <td>967</td>\n",
       "      <td>14M</td>\n",
       "      <td>500,000+</td>\n",
       "      <td>Free</td>\n",
       "      <td>0</td>\n",
       "      <td>Everyone</td>\n",
       "      <td>Art &amp; Design;Pretend Play</td>\n",
       "      <td>January 15, 2018</td>\n",
       "      <td>2.0.0</td>\n",
       "      <td>4.0.3 and up</td>\n",
       "    </tr>\n",
       "    <tr>\n",
       "      <th>2</th>\n",
       "      <td>U Launcher Lite – FREE Live Cool Themes, Hide ...</td>\n",
       "      <td>ART_AND_DESIGN</td>\n",
       "      <td>4.7</td>\n",
       "      <td>87510</td>\n",
       "      <td>8.7M</td>\n",
       "      <td>5,000,000+</td>\n",
       "      <td>Free</td>\n",
       "      <td>0</td>\n",
       "      <td>Everyone</td>\n",
       "      <td>Art &amp; Design</td>\n",
       "      <td>August 1, 2018</td>\n",
       "      <td>1.2.4</td>\n",
       "      <td>4.0.3 and up</td>\n",
       "    </tr>\n",
       "    <tr>\n",
       "      <th>3</th>\n",
       "      <td>Sketch - Draw &amp; Paint</td>\n",
       "      <td>ART_AND_DESIGN</td>\n",
       "      <td>4.5</td>\n",
       "      <td>215644</td>\n",
       "      <td>25M</td>\n",
       "      <td>50,000,000+</td>\n",
       "      <td>Free</td>\n",
       "      <td>0</td>\n",
       "      <td>Teen</td>\n",
       "      <td>Art &amp; Design</td>\n",
       "      <td>June 8, 2018</td>\n",
       "      <td>Varies with device</td>\n",
       "      <td>4.2 and up</td>\n",
       "    </tr>\n",
       "    <tr>\n",
       "      <th>4</th>\n",
       "      <td>Pixel Draw - Number Art Coloring Book</td>\n",
       "      <td>ART_AND_DESIGN</td>\n",
       "      <td>4.3</td>\n",
       "      <td>967</td>\n",
       "      <td>2.8M</td>\n",
       "      <td>100,000+</td>\n",
       "      <td>Free</td>\n",
       "      <td>0</td>\n",
       "      <td>Everyone</td>\n",
       "      <td>Art &amp; Design;Creativity</td>\n",
       "      <td>June 20, 2018</td>\n",
       "      <td>1.1</td>\n",
       "      <td>4.4 and up</td>\n",
       "    </tr>\n",
       "  </tbody>\n",
       "</table>\n",
       "</div>"
      ],
      "text/plain": [
       "                                                 App      ...        Android Ver\n",
       "0     Photo Editor & Candy Camera & Grid & ScrapBook      ...       4.0.3 and up\n",
       "1                                Coloring book moana      ...       4.0.3 and up\n",
       "2  U Launcher Lite – FREE Live Cool Themes, Hide ...      ...       4.0.3 and up\n",
       "3                              Sketch - Draw & Paint      ...         4.2 and up\n",
       "4              Pixel Draw - Number Art Coloring Book      ...         4.4 and up\n",
       "\n",
       "[5 rows x 13 columns]"
      ]
     },
     "execution_count": 3,
     "metadata": {},
     "output_type": "execute_result"
    }
   ],
   "source": [
    "# So we got our dataset\n",
    "df.head() \n",
    "# Here in our dataset we can see Result = 0, 1 that mean 1 mean selected celebrity has cancer and 0 means no cancer"
   ]
  },
  {
   "cell_type": "code",
   "execution_count": 4,
   "metadata": {},
   "outputs": [],
   "source": [
    "# so before visualization lets do some EDA. Exploratory data analysis."
   ]
  },
  {
   "cell_type": "code",
   "execution_count": 5,
   "metadata": {},
   "outputs": [
    {
     "data": {
      "text/plain": [
       "App                  0\n",
       "Category             0\n",
       "Rating            1474\n",
       "Reviews              0\n",
       "Size                 0\n",
       "Installs             0\n",
       "Type                 1\n",
       "Price                0\n",
       "Content Rating       1\n",
       "Genres               0\n",
       "Last Updated         0\n",
       "Current Ver          8\n",
       "Android Ver          3\n",
       "dtype: int64"
      ]
     },
     "execution_count": 5,
     "metadata": {},
     "output_type": "execute_result"
    }
   ],
   "source": [
    "# Lets find is there any missing values?\n",
    "df.isnull().sum() # We can see in Rating we have 1474 missing values & 1 value in Type, 1 in content rating and others also"
   ]
  },
  {
   "cell_type": "code",
   "execution_count": 6,
   "metadata": {},
   "outputs": [
    {
     "data": {
      "text/plain": [
       "Index(['App', 'Category', 'Rating', 'Reviews', 'Size', 'Installs', 'Type',\n",
       "       'Price', 'Content Rating', 'Genres', 'Last Updated', 'Current Ver',\n",
       "       'Android Ver'],\n",
       "      dtype='object')"
      ]
     },
     "execution_count": 6,
     "metadata": {},
     "output_type": "execute_result"
    }
   ],
   "source": [
    "# Lets see the all columns names\n",
    "df.columns"
   ]
  },
  {
   "cell_type": "code",
   "execution_count": 7,
   "metadata": {},
   "outputs": [
    {
     "data": {
      "text/plain": [
       "App                object\n",
       "Category           object\n",
       "Rating            float64\n",
       "Reviews            object\n",
       "Size               object\n",
       "Installs           object\n",
       "Type               object\n",
       "Price              object\n",
       "Content Rating     object\n",
       "Genres             object\n",
       "Last Updated       object\n",
       "Current Ver        object\n",
       "Android Ver        object\n",
       "dtype: object"
      ]
     },
     "execution_count": 7,
     "metadata": {},
     "output_type": "execute_result"
    }
   ],
   "source": [
    "# Find the datatype of all the columns \n",
    "df.dtypes"
   ]
  },
  {
   "cell_type": "code",
   "execution_count": 8,
   "metadata": {},
   "outputs": [
    {
     "data": {
      "text/plain": [
       "App               10841\n",
       "Category          10841\n",
       "Rating             9367\n",
       "Reviews           10841\n",
       "Size              10841\n",
       "Installs          10841\n",
       "Type              10840\n",
       "Price             10841\n",
       "Content Rating    10840\n",
       "Genres            10841\n",
       "Last Updated      10841\n",
       "Current Ver       10833\n",
       "Android Ver       10838\n",
       "dtype: int64"
      ]
     },
     "execution_count": 8,
     "metadata": {},
     "output_type": "execute_result"
    }
   ],
   "source": [
    "# total number of records in dataset\n",
    "df.count()"
   ]
  },
  {
   "cell_type": "code",
   "execution_count": 9,
   "metadata": {},
   "outputs": [
    {
     "data": {
      "text/html": [
       "<div>\n",
       "<style scoped>\n",
       "    .dataframe tbody tr th:only-of-type {\n",
       "        vertical-align: middle;\n",
       "    }\n",
       "\n",
       "    .dataframe tbody tr th {\n",
       "        vertical-align: top;\n",
       "    }\n",
       "\n",
       "    .dataframe thead th {\n",
       "        text-align: right;\n",
       "    }\n",
       "</style>\n",
       "<table border=\"1\" class=\"dataframe\">\n",
       "  <thead>\n",
       "    <tr style=\"text-align: right;\">\n",
       "      <th></th>\n",
       "      <th>Rating</th>\n",
       "    </tr>\n",
       "  </thead>\n",
       "  <tbody>\n",
       "    <tr>\n",
       "      <th>count</th>\n",
       "      <td>9367.000000</td>\n",
       "    </tr>\n",
       "    <tr>\n",
       "      <th>mean</th>\n",
       "      <td>4.193338</td>\n",
       "    </tr>\n",
       "    <tr>\n",
       "      <th>std</th>\n",
       "      <td>0.537431</td>\n",
       "    </tr>\n",
       "    <tr>\n",
       "      <th>min</th>\n",
       "      <td>1.000000</td>\n",
       "    </tr>\n",
       "    <tr>\n",
       "      <th>25%</th>\n",
       "      <td>4.000000</td>\n",
       "    </tr>\n",
       "    <tr>\n",
       "      <th>50%</th>\n",
       "      <td>4.300000</td>\n",
       "    </tr>\n",
       "    <tr>\n",
       "      <th>75%</th>\n",
       "      <td>4.500000</td>\n",
       "    </tr>\n",
       "    <tr>\n",
       "      <th>max</th>\n",
       "      <td>19.000000</td>\n",
       "    </tr>\n",
       "  </tbody>\n",
       "</table>\n",
       "</div>"
      ],
      "text/plain": [
       "            Rating\n",
       "count  9367.000000\n",
       "mean      4.193338\n",
       "std       0.537431\n",
       "min       1.000000\n",
       "25%       4.000000\n",
       "50%       4.300000\n",
       "75%       4.500000\n",
       "max      19.000000"
      ]
     },
     "execution_count": 9,
     "metadata": {},
     "output_type": "execute_result"
    }
   ],
   "source": [
    "# Summary statistics. It will show you the summary statistic for all the numerical values\n",
    "df.describe()"
   ]
  },
  {
   "cell_type": "code",
   "execution_count": 10,
   "metadata": {},
   "outputs": [
    {
     "name": "stdout",
     "output_type": "stream",
     "text": [
      "<class 'pandas.core.frame.DataFrame'>\n",
      "RangeIndex: 10841 entries, 0 to 10840\n",
      "Data columns (total 13 columns):\n",
      "App               10841 non-null object\n",
      "Category          10841 non-null object\n",
      "Rating            9367 non-null float64\n",
      "Reviews           10841 non-null object\n",
      "Size              10841 non-null object\n",
      "Installs          10841 non-null object\n",
      "Type              10840 non-null object\n",
      "Price             10841 non-null object\n",
      "Content Rating    10840 non-null object\n",
      "Genres            10841 non-null object\n",
      "Last Updated      10841 non-null object\n",
      "Current Ver       10833 non-null object\n",
      "Android Ver       10838 non-null object\n",
      "dtypes: float64(1), object(12)\n",
      "memory usage: 1.1+ MB\n"
     ]
    }
   ],
   "source": [
    "# info is also used to see some important statistics for dataset.\n",
    "df.info()"
   ]
  },
  {
   "cell_type": "code",
   "execution_count": 11,
   "metadata": {},
   "outputs": [
    {
     "data": {
      "text/plain": [
       "0       Photo Editor & Candy Camera & Grid & ScrapBook\n",
       "1                                  Coloring book moana\n",
       "2    U Launcher Lite – FREE Live Cool Themes, Hide ...\n",
       "3                                Sketch - Draw & Paint\n",
       "4                Pixel Draw - Number Art Coloring Book\n",
       "Name: App, dtype: object"
      ]
     },
     "execution_count": 11,
     "metadata": {},
     "output_type": "execute_result"
    }
   ],
   "source": [
    "# This will show you top 5 Name columns. As head return top 5\n",
    "df.App.head()"
   ]
  },
  {
   "cell_type": "code",
   "execution_count": 12,
   "metadata": {},
   "outputs": [
    {
     "data": {
      "text/html": [
       "<div>\n",
       "<style scoped>\n",
       "    .dataframe tbody tr th:only-of-type {\n",
       "        vertical-align: middle;\n",
       "    }\n",
       "\n",
       "    .dataframe tbody tr th {\n",
       "        vertical-align: top;\n",
       "    }\n",
       "\n",
       "    .dataframe thead th {\n",
       "        text-align: right;\n",
       "    }\n",
       "</style>\n",
       "<table border=\"1\" class=\"dataframe\">\n",
       "  <thead>\n",
       "    <tr style=\"text-align: right;\">\n",
       "      <th></th>\n",
       "      <th>App</th>\n",
       "    </tr>\n",
       "  </thead>\n",
       "  <tbody>\n",
       "    <tr>\n",
       "      <th>0</th>\n",
       "      <td>Photo Editor &amp; Candy Camera &amp; Grid &amp; ScrapBook</td>\n",
       "    </tr>\n",
       "    <tr>\n",
       "      <th>1</th>\n",
       "      <td>Coloring book moana</td>\n",
       "    </tr>\n",
       "    <tr>\n",
       "      <th>2</th>\n",
       "      <td>U Launcher Lite – FREE Live Cool Themes, Hide ...</td>\n",
       "    </tr>\n",
       "    <tr>\n",
       "      <th>3</th>\n",
       "      <td>Sketch - Draw &amp; Paint</td>\n",
       "    </tr>\n",
       "    <tr>\n",
       "      <th>4</th>\n",
       "      <td>Pixel Draw - Number Art Coloring Book</td>\n",
       "    </tr>\n",
       "  </tbody>\n",
       "</table>\n",
       "</div>"
      ],
      "text/plain": [
       "                                                 App\n",
       "0     Photo Editor & Candy Camera & Grid & ScrapBook\n",
       "1                                Coloring book moana\n",
       "2  U Launcher Lite – FREE Live Cool Themes, Hide ...\n",
       "3                              Sketch - Draw & Paint\n",
       "4              Pixel Draw - Number Art Coloring Book"
      ]
     },
     "execution_count": 12,
     "metadata": {},
     "output_type": "execute_result"
    }
   ],
   "source": [
    "# you can also do above same thing with array type\n",
    "df[[\"App\"]].head()"
   ]
  },
  {
   "cell_type": "code",
   "execution_count": 13,
   "metadata": {},
   "outputs": [
    {
     "data": {
      "text/html": [
       "<div>\n",
       "<style scoped>\n",
       "    .dataframe tbody tr th:only-of-type {\n",
       "        vertical-align: middle;\n",
       "    }\n",
       "\n",
       "    .dataframe tbody tr th {\n",
       "        vertical-align: top;\n",
       "    }\n",
       "\n",
       "    .dataframe thead th {\n",
       "        text-align: right;\n",
       "    }\n",
       "</style>\n",
       "<table border=\"1\" class=\"dataframe\">\n",
       "  <thead>\n",
       "    <tr style=\"text-align: right;\">\n",
       "      <th></th>\n",
       "      <th>App</th>\n",
       "      <th>Rating</th>\n",
       "    </tr>\n",
       "  </thead>\n",
       "  <tbody>\n",
       "    <tr>\n",
       "      <th>0</th>\n",
       "      <td>Photo Editor &amp; Candy Camera &amp; Grid &amp; ScrapBook</td>\n",
       "      <td>4.1</td>\n",
       "    </tr>\n",
       "    <tr>\n",
       "      <th>1</th>\n",
       "      <td>Coloring book moana</td>\n",
       "      <td>3.9</td>\n",
       "    </tr>\n",
       "    <tr>\n",
       "      <th>2</th>\n",
       "      <td>U Launcher Lite – FREE Live Cool Themes, Hide ...</td>\n",
       "      <td>4.7</td>\n",
       "    </tr>\n",
       "    <tr>\n",
       "      <th>3</th>\n",
       "      <td>Sketch - Draw &amp; Paint</td>\n",
       "      <td>4.5</td>\n",
       "    </tr>\n",
       "    <tr>\n",
       "      <th>4</th>\n",
       "      <td>Pixel Draw - Number Art Coloring Book</td>\n",
       "      <td>4.3</td>\n",
       "    </tr>\n",
       "  </tbody>\n",
       "</table>\n",
       "</div>"
      ],
      "text/plain": [
       "                                                 App  Rating\n",
       "0     Photo Editor & Candy Camera & Grid & ScrapBook     4.1\n",
       "1                                Coloring book moana     3.9\n",
       "2  U Launcher Lite – FREE Live Cool Themes, Hide ...     4.7\n",
       "3                              Sketch - Draw & Paint     4.5\n",
       "4              Pixel Draw - Number Art Coloring Book     4.3"
      ]
     },
     "execution_count": 13,
     "metadata": {},
     "output_type": "execute_result"
    }
   ],
   "source": [
    "# show multiple columns\n",
    "df[[\"App\", \"Rating\"]].head()"
   ]
  },
  {
   "cell_type": "code",
   "execution_count": 14,
   "metadata": {},
   "outputs": [
    {
     "data": {
      "text/html": [
       "<div>\n",
       "<style scoped>\n",
       "    .dataframe tbody tr th:only-of-type {\n",
       "        vertical-align: middle;\n",
       "    }\n",
       "\n",
       "    .dataframe tbody tr th {\n",
       "        vertical-align: top;\n",
       "    }\n",
       "\n",
       "    .dataframe thead th {\n",
       "        text-align: right;\n",
       "    }\n",
       "</style>\n",
       "<table border=\"1\" class=\"dataframe\">\n",
       "  <thead>\n",
       "    <tr style=\"text-align: right;\">\n",
       "      <th></th>\n",
       "      <th>App</th>\n",
       "      <th>Rating</th>\n",
       "    </tr>\n",
       "  </thead>\n",
       "  <tbody>\n",
       "    <tr>\n",
       "      <th>10836</th>\n",
       "      <td>Sya9a Maroc - FR</td>\n",
       "      <td>4.5</td>\n",
       "    </tr>\n",
       "    <tr>\n",
       "      <th>10837</th>\n",
       "      <td>Fr. Mike Schmitz Audio Teachings</td>\n",
       "      <td>5.0</td>\n",
       "    </tr>\n",
       "    <tr>\n",
       "      <th>10838</th>\n",
       "      <td>Parkinson Exercices FR</td>\n",
       "      <td>NaN</td>\n",
       "    </tr>\n",
       "    <tr>\n",
       "      <th>10839</th>\n",
       "      <td>The SCP Foundation DB fr nn5n</td>\n",
       "      <td>4.5</td>\n",
       "    </tr>\n",
       "    <tr>\n",
       "      <th>10840</th>\n",
       "      <td>iHoroscope - 2018 Daily Horoscope &amp; Astrology</td>\n",
       "      <td>4.5</td>\n",
       "    </tr>\n",
       "  </tbody>\n",
       "</table>\n",
       "</div>"
      ],
      "text/plain": [
       "                                                 App  Rating\n",
       "10836                               Sya9a Maroc - FR     4.5\n",
       "10837               Fr. Mike Schmitz Audio Teachings     5.0\n",
       "10838                         Parkinson Exercices FR     NaN\n",
       "10839                  The SCP Foundation DB fr nn5n     4.5\n",
       "10840  iHoroscope - 2018 Daily Horoscope & Astrology     4.5"
      ]
     },
     "execution_count": 14,
     "metadata": {},
     "output_type": "execute_result"
    }
   ],
   "source": [
    "# you can also watch below 5 using tail\n",
    "df[[\"App\", \"Rating\"]].tail()"
   ]
  },
  {
   "cell_type": "code",
   "execution_count": 15,
   "metadata": {},
   "outputs": [
    {
     "name": "stdout",
     "output_type": "stream",
     "text": [
      "Mean Age:  4.193338315362448\n",
      "Median Age:  4.3\n",
      "Variance Age:  0.28883240560309886\n",
      "Standard Deviation Age:  0.5374313031477594\n",
      "25th Percentile of Age:  4.0\n",
      "50th Percentile of Age:  4.3\n",
      "75th Percentile of Age:  4.5\n"
     ]
    }
   ],
   "source": [
    "# Basic statistics\n",
    "print(\"Mean Age: \", df.Rating.mean())\n",
    "print(\"Median Age: \", df.Rating.median())\n",
    "print(\"Variance Age: \", df.Rating.var())\n",
    "print(\"Standard Deviation Age: \", df.Rating.std())\n",
    "print(\"25th Percentile of Age: \", df.Rating.quantile(.25))\n",
    "print(\"50th Percentile of Age: \", df.Rating.quantile(.5))\n",
    "print(\"75th Percentile of Age: \", df.Rating.quantile(.75))"
   ]
  },
  {
   "cell_type": "code",
   "execution_count": 16,
   "metadata": {},
   "outputs": [
    {
     "data": {
      "text/html": [
       "<div>\n",
       "<style scoped>\n",
       "    .dataframe tbody tr th:only-of-type {\n",
       "        vertical-align: middle;\n",
       "    }\n",
       "\n",
       "    .dataframe tbody tr th {\n",
       "        vertical-align: top;\n",
       "    }\n",
       "\n",
       "    .dataframe thead th {\n",
       "        text-align: right;\n",
       "    }\n",
       "</style>\n",
       "<table border=\"1\" class=\"dataframe\">\n",
       "  <thead>\n",
       "    <tr style=\"text-align: right;\">\n",
       "      <th></th>\n",
       "      <th>Category</th>\n",
       "      <th>Rating</th>\n",
       "      <th>Reviews</th>\n",
       "    </tr>\n",
       "  </thead>\n",
       "  <tbody>\n",
       "    <tr>\n",
       "      <th>0</th>\n",
       "      <td>ART_AND_DESIGN</td>\n",
       "      <td>4.1</td>\n",
       "      <td>159</td>\n",
       "    </tr>\n",
       "    <tr>\n",
       "      <th>1</th>\n",
       "      <td>ART_AND_DESIGN</td>\n",
       "      <td>3.9</td>\n",
       "      <td>967</td>\n",
       "    </tr>\n",
       "    <tr>\n",
       "      <th>2</th>\n",
       "      <td>ART_AND_DESIGN</td>\n",
       "      <td>4.7</td>\n",
       "      <td>87510</td>\n",
       "    </tr>\n",
       "    <tr>\n",
       "      <th>3</th>\n",
       "      <td>ART_AND_DESIGN</td>\n",
       "      <td>4.5</td>\n",
       "      <td>215644</td>\n",
       "    </tr>\n",
       "    <tr>\n",
       "      <th>4</th>\n",
       "      <td>ART_AND_DESIGN</td>\n",
       "      <td>4.3</td>\n",
       "      <td>967</td>\n",
       "    </tr>\n",
       "  </tbody>\n",
       "</table>\n",
       "</div>"
      ],
      "text/plain": [
       "         Category  Rating Reviews\n",
       "0  ART_AND_DESIGN     4.1     159\n",
       "1  ART_AND_DESIGN     3.9     967\n",
       "2  ART_AND_DESIGN     4.7   87510\n",
       "3  ART_AND_DESIGN     4.5  215644\n",
       "4  ART_AND_DESIGN     4.3     967"
      ]
     },
     "execution_count": 16,
     "metadata": {},
     "output_type": "execute_result"
    }
   ],
   "source": [
    "# position based indexing\n",
    "# We use iloc for this. Here we mention [row, cols] like this.\n",
    "# : as row means all the rows & 1:4 as columns means 1st index(2nd columns aqs index start from 0), 3rd column and 4th column. 4th index will not included/\n",
    "df.iloc[:, 1:4].head()"
   ]
  },
  {
   "cell_type": "code",
   "execution_count": 17,
   "metadata": {},
   "outputs": [
    {
     "data": {
      "text/html": [
       "<div>\n",
       "<style scoped>\n",
       "    .dataframe tbody tr th:only-of-type {\n",
       "        vertical-align: middle;\n",
       "    }\n",
       "\n",
       "    .dataframe tbody tr th {\n",
       "        vertical-align: top;\n",
       "    }\n",
       "\n",
       "    .dataframe thead th {\n",
       "        text-align: right;\n",
       "    }\n",
       "</style>\n",
       "<table border=\"1\" class=\"dataframe\">\n",
       "  <thead>\n",
       "    <tr style=\"text-align: right;\">\n",
       "      <th></th>\n",
       "      <th>App</th>\n",
       "      <th>Rating</th>\n",
       "    </tr>\n",
       "  </thead>\n",
       "  <tbody>\n",
       "    <tr>\n",
       "      <th>0</th>\n",
       "      <td>Photo Editor &amp; Candy Camera &amp; Grid &amp; ScrapBook</td>\n",
       "      <td>4.1</td>\n",
       "    </tr>\n",
       "    <tr>\n",
       "      <th>1</th>\n",
       "      <td>Coloring book moana</td>\n",
       "      <td>3.9</td>\n",
       "    </tr>\n",
       "    <tr>\n",
       "      <th>2</th>\n",
       "      <td>U Launcher Lite – FREE Live Cool Themes, Hide ...</td>\n",
       "      <td>4.7</td>\n",
       "    </tr>\n",
       "    <tr>\n",
       "      <th>3</th>\n",
       "      <td>Sketch - Draw &amp; Paint</td>\n",
       "      <td>4.5</td>\n",
       "    </tr>\n",
       "    <tr>\n",
       "      <th>4</th>\n",
       "      <td>Pixel Draw - Number Art Coloring Book</td>\n",
       "      <td>4.3</td>\n",
       "    </tr>\n",
       "  </tbody>\n",
       "</table>\n",
       "</div>"
      ],
      "text/plain": [
       "                                                 App  Rating\n",
       "0     Photo Editor & Candy Camera & Grid & ScrapBook     4.1\n",
       "1                                Coloring book moana     3.9\n",
       "2  U Launcher Lite – FREE Live Cool Themes, Hide ...     4.7\n",
       "3                              Sketch - Draw & Paint     4.5\n",
       "4              Pixel Draw - Number Art Coloring Book     4.3"
      ]
     },
     "execution_count": 17,
     "metadata": {},
     "output_type": "execute_result"
    }
   ],
   "source": [
    "# name based indexing\n",
    "# in below example we are using all the rows(:) and only Name and Age column.\n",
    "# you can use any indexing method but i usually prefer iloc. As i am more comfortable with indices.\n",
    "df.loc[:,[\"App\", \"Rating\"]].head()"
   ]
  },
  {
   "cell_type": "code",
   "execution_count": null,
   "metadata": {},
   "outputs": [],
   "source": []
  },
  {
   "cell_type": "code",
   "execution_count": 18,
   "metadata": {},
   "outputs": [
    {
     "data": {
      "text/plain": [
       "Free    10039\n",
       "Paid      800\n",
       "0           1\n",
       "Name: Type, dtype: int64"
      ]
     },
     "execution_count": 18,
     "metadata": {},
     "output_type": "execute_result"
    }
   ],
   "source": [
    "# lets find out different type of Type column\n",
    "df.Type.value_counts()\n",
    "# we can see the number of free and paid apps"
   ]
  },
  {
   "cell_type": "markdown",
   "metadata": {},
   "source": [
    "##### Lets plot Some visualizations"
   ]
  },
  {
   "cell_type": "markdown",
   "metadata": {},
   "source": [
    "##### We will start with Univariate Distribution"
   ]
  },
  {
   "cell_type": "code",
   "execution_count": 19,
   "metadata": {},
   "outputs": [
    {
     "data": {
      "image/png": "[encoded data removed]",
      "text/plain": [
       "<Figure size 1080x720 with 1 Axes>"
      ]
     },
     "metadata": {
      "needs_background": "light"
     },
     "output_type": "display_data"
    }
   ],
   "source": [
    "# Plot Univariate distribution for Ratings using histogram. It will show the total number or app according to the ratings.\n",
    "# Total number of app acccording to  the ratings\n",
    "plt.figure(figsize= (15, 10));\n",
    "#plt.hist(x=df.Rating, color='c');\n",
    "df.Rating.plot(kind=\"hist\", bins=30, color='c')\n",
    "plt.title(\"Univariate: Rating Histogram\");\n",
    "plt.xlabel(\"Rating\");\n",
    "plt.ylabel(\"Total Counts\");\n",
    "plt.xlim(right=6)\n",
    "plt.plot();"
   ]
  },
  {
   "cell_type": "code",
   "execution_count": 20,
   "metadata": {},
   "outputs": [
    {
     "data": {
      "text/plain": [
       "FAMILY                 1972\n",
       "GAME                   1144\n",
       "TOOLS                   843\n",
       "MEDICAL                 463\n",
       "BUSINESS                460\n",
       "PRODUCTIVITY            424\n",
       "PERSONALIZATION         392\n",
       "COMMUNICATION           387\n",
       "SPORTS                  384\n",
       "LIFESTYLE               382\n",
       "FINANCE                 366\n",
       "HEALTH_AND_FITNESS      341\n",
       "PHOTOGRAPHY             335\n",
       "SOCIAL                  295\n",
       "NEWS_AND_MAGAZINES      283\n",
       "SHOPPING                260\n",
       "TRAVEL_AND_LOCAL        258\n",
       "DATING                  234\n",
       "BOOKS_AND_REFERENCE     231\n",
       "VIDEO_PLAYERS           175\n",
       "EDUCATION               156\n",
       "ENTERTAINMENT           149\n",
       "MAPS_AND_NAVIGATION     137\n",
       "FOOD_AND_DRINK          127\n",
       "HOUSE_AND_HOME           88\n",
       "LIBRARIES_AND_DEMO       85\n",
       "AUTO_AND_VEHICLES        85\n",
       "WEATHER                  82\n",
       "ART_AND_DESIGN           65\n",
       "EVENTS                   64\n",
       "COMICS                   60\n",
       "PARENTING                60\n",
       "BEAUTY                   53\n",
       "1.9                       1\n",
       "Name: Category, dtype: int64"
      ]
     },
     "execution_count": 20,
     "metadata": {},
     "output_type": "execute_result"
    }
   ],
   "source": [
    "# lets see how many categories are there and total number of apps grouped by category\n",
    "df.Category.value_counts()\n",
    "# So it clearly show the count of apps for a particular category. value_counts() is very handly function for this."
   ]
  },
  {
   "cell_type": "code",
   "execution_count": 21,
   "metadata": {},
   "outputs": [
    {
     "data": {
      "image/png": "[encoded data removed]",
      "text/plain": [
       "<Figure size 1080x720 with 1 Axes>"
      ]
     },
     "metadata": {
      "needs_background": "light"
     },
     "output_type": "display_data"
    }
   ],
   "source": [
    "# but really saying this data is not convincing... we can make it more appealing by plotting it.\n",
    "# lets plot it.\n",
    "plt.figure(figsize=(15,10))\n",
    "df.Category.value_counts().plot(kind=\"bar\", rot=0, title=\"Pclass Vs Count\", color='c', );\n",
    "plt.xticks(rotation='vertical');\n",
    "plt.title(\"Category Vs App Count\")\n",
    "plt.xlabel(\"Category Name\")\n",
    "plt.ylabel(\"Count\")\n",
    "plt.plot();"
   ]
  },
  {
   "cell_type": "code",
   "execution_count": 22,
   "metadata": {},
   "outputs": [],
   "source": [
    "# So now from above example we can see that mostly apps belongs to the family, games , tool category.\n",
    "# and beauty categroy app is least in number."
   ]
  },
  {
   "cell_type": "code",
   "execution_count": 23,
   "metadata": {},
   "outputs": [
    {
     "data": {
      "text/plain": [
       "Category\n",
       "1.9                    19.000000\n",
       "ART_AND_DESIGN          4.358065\n",
       "AUTO_AND_VEHICLES       4.190411\n",
       "BEAUTY                  4.278571\n",
       "BOOKS_AND_REFERENCE     4.346067\n",
       "BUSINESS                4.121452\n",
       "COMICS                  4.155172\n",
       "COMMUNICATION           4.158537\n",
       "DATING                  3.970769\n",
       "EDUCATION               4.389032\n",
       "ENTERTAINMENT           4.126174\n",
       "EVENTS                  4.435556\n",
       "FAMILY                  4.192272\n",
       "FINANCE                 4.131889\n",
       "FOOD_AND_DRINK          4.166972\n",
       "GAME                    4.286326\n",
       "HEALTH_AND_FITNESS      4.277104\n",
       "HOUSE_AND_HOME          4.197368\n",
       "LIBRARIES_AND_DEMO      4.178462\n",
       "LIFESTYLE               4.094904\n",
       "MAPS_AND_NAVIGATION     4.051613\n",
       "MEDICAL                 4.189143\n",
       "NEWS_AND_MAGAZINES      4.132189\n",
       "PARENTING               4.300000\n",
       "PERSONALIZATION         4.335987\n",
       "PHOTOGRAPHY             4.192114\n",
       "PRODUCTIVITY            4.211396\n",
       "SHOPPING                4.259664\n",
       "SOCIAL                  4.255598\n",
       "SPORTS                  4.223511\n",
       "TOOLS                   4.047411\n",
       "TRAVEL_AND_LOCAL        4.109292\n",
       "VIDEO_PLAYERS           4.063750\n",
       "WEATHER                 4.244000\n",
       "Name: Rating, dtype: float64"
      ]
     },
     "execution_count": 23,
     "metadata": {},
     "output_type": "execute_result"
    }
   ],
   "source": [
    "# Lets plot the average rating of eah category.\n",
    "df.groupby([\"Category\"]).Rating.mean()\n",
    "# We can see 1.9 category has a rating of 19.0.. which is not possible as our rating is out of 5.\n",
    "# So definitly it may be some data issue. Now what to do?"
   ]
  },
  {
   "cell_type": "code",
   "execution_count": 24,
   "metadata": {},
   "outputs": [
    {
     "data": {
      "text/html": [
       "<div>\n",
       "<style scoped>\n",
       "    .dataframe tbody tr th:only-of-type {\n",
       "        vertical-align: middle;\n",
       "    }\n",
       "\n",
       "    .dataframe tbody tr th {\n",
       "        vertical-align: top;\n",
       "    }\n",
       "\n",
       "    .dataframe thead th {\n",
       "        text-align: right;\n",
       "    }\n",
       "</style>\n",
       "<table border=\"1\" class=\"dataframe\">\n",
       "  <thead>\n",
       "    <tr style=\"text-align: right;\">\n",
       "      <th></th>\n",
       "      <th>App</th>\n",
       "      <th>Category</th>\n",
       "      <th>Rating</th>\n",
       "      <th>Reviews</th>\n",
       "      <th>Size</th>\n",
       "      <th>Installs</th>\n",
       "      <th>Type</th>\n",
       "      <th>Price</th>\n",
       "      <th>Content Rating</th>\n",
       "      <th>Genres</th>\n",
       "      <th>Last Updated</th>\n",
       "      <th>Current Ver</th>\n",
       "      <th>Android Ver</th>\n",
       "    </tr>\n",
       "  </thead>\n",
       "  <tbody>\n",
       "    <tr>\n",
       "      <th>10472</th>\n",
       "      <td>Life Made WI-Fi Touchscreen Photo Frame</td>\n",
       "      <td>1.9</td>\n",
       "      <td>19.0</td>\n",
       "      <td>3.0M</td>\n",
       "      <td>1,000+</td>\n",
       "      <td>Free</td>\n",
       "      <td>0</td>\n",
       "      <td>Everyone</td>\n",
       "      <td>NaN</td>\n",
       "      <td>February 11, 2018</td>\n",
       "      <td>1.0.19</td>\n",
       "      <td>4.0 and up</td>\n",
       "      <td>NaN</td>\n",
       "    </tr>\n",
       "  </tbody>\n",
       "</table>\n",
       "</div>"
      ],
      "text/plain": [
       "                                           App     ...     Android Ver\n",
       "10472  Life Made WI-Fi Touchscreen Photo Frame     ...             NaN\n",
       "\n",
       "[1 rows x 13 columns]"
      ]
     },
     "execution_count": 24,
     "metadata": {},
     "output_type": "execute_result"
    }
   ],
   "source": [
    "df[df[\"Category\"] == '1.9'] # We can see Rating has a value of 19.0, which is not possible.\n",
    "# So we have two choices:\n",
    "# 1. Either we remove this row\n",
    "# 2. Correct this value.\n",
    "# i will not prefer removing row as it is the only row related to the category 1.9.\n",
    "# lets replace this value with average rating."
   ]
  },
  {
   "cell_type": "code",
   "execution_count": 25,
   "metadata": {},
   "outputs": [],
   "source": [
    "# inplace will save your change to the original dataframe\n",
    "df[\"Rating\"].replace(19.0, df.Rating.mean(), inplace=True)"
   ]
  },
  {
   "cell_type": "code",
   "execution_count": 26,
   "metadata": {},
   "outputs": [
    {
     "data": {
      "text/html": [
       "<div>\n",
       "<style scoped>\n",
       "    .dataframe tbody tr th:only-of-type {\n",
       "        vertical-align: middle;\n",
       "    }\n",
       "\n",
       "    .dataframe tbody tr th {\n",
       "        vertical-align: top;\n",
       "    }\n",
       "\n",
       "    .dataframe thead th {\n",
       "        text-align: right;\n",
       "    }\n",
       "</style>\n",
       "<table border=\"1\" class=\"dataframe\">\n",
       "  <thead>\n",
       "    <tr style=\"text-align: right;\">\n",
       "      <th></th>\n",
       "      <th>App</th>\n",
       "      <th>Category</th>\n",
       "      <th>Rating</th>\n",
       "      <th>Reviews</th>\n",
       "      <th>Size</th>\n",
       "      <th>Installs</th>\n",
       "      <th>Type</th>\n",
       "      <th>Price</th>\n",
       "      <th>Content Rating</th>\n",
       "      <th>Genres</th>\n",
       "      <th>Last Updated</th>\n",
       "      <th>Current Ver</th>\n",
       "      <th>Android Ver</th>\n",
       "    </tr>\n",
       "  </thead>\n",
       "  <tbody>\n",
       "    <tr>\n",
       "      <th>10472</th>\n",
       "      <td>Life Made WI-Fi Touchscreen Photo Frame</td>\n",
       "      <td>1.9</td>\n",
       "      <td>4.193338</td>\n",
       "      <td>3.0M</td>\n",
       "      <td>1,000+</td>\n",
       "      <td>Free</td>\n",
       "      <td>0</td>\n",
       "      <td>Everyone</td>\n",
       "      <td>NaN</td>\n",
       "      <td>February 11, 2018</td>\n",
       "      <td>1.0.19</td>\n",
       "      <td>4.0 and up</td>\n",
       "      <td>NaN</td>\n",
       "    </tr>\n",
       "  </tbody>\n",
       "</table>\n",
       "</div>"
      ],
      "text/plain": [
       "                                           App     ...     Android Ver\n",
       "10472  Life Made WI-Fi Touchscreen Photo Frame     ...             NaN\n",
       "\n",
       "[1 rows x 13 columns]"
      ]
     },
     "execution_count": 26,
     "metadata": {},
     "output_type": "execute_result"
    }
   ],
   "source": [
    "# now lets check again\n",
    "df[df[\"Category\"] == '1.9'] # So we have finally replaced it to the average value"
   ]
  },
  {
   "cell_type": "code",
   "execution_count": 27,
   "metadata": {},
   "outputs": [
    {
     "data": {
      "text/plain": [
       "Category\n",
       "1.9                    4.193338\n",
       "ART_AND_DESIGN         4.358065\n",
       "AUTO_AND_VEHICLES      4.190411\n",
       "BEAUTY                 4.278571\n",
       "BOOKS_AND_REFERENCE    4.346067\n",
       "BUSINESS               4.121452\n",
       "COMICS                 4.155172\n",
       "COMMUNICATION          4.158537\n",
       "DATING                 3.970769\n",
       "EDUCATION              4.389032\n",
       "ENTERTAINMENT          4.126174\n",
       "EVENTS                 4.435556\n",
       "FAMILY                 4.192272\n",
       "FINANCE                4.131889\n",
       "FOOD_AND_DRINK         4.166972\n",
       "GAME                   4.286326\n",
       "HEALTH_AND_FITNESS     4.277104\n",
       "HOUSE_AND_HOME         4.197368\n",
       "LIBRARIES_AND_DEMO     4.178462\n",
       "LIFESTYLE              4.094904\n",
       "MAPS_AND_NAVIGATION    4.051613\n",
       "MEDICAL                4.189143\n",
       "NEWS_AND_MAGAZINES     4.132189\n",
       "PARENTING              4.300000\n",
       "PERSONALIZATION        4.335987\n",
       "PHOTOGRAPHY            4.192114\n",
       "PRODUCTIVITY           4.211396\n",
       "SHOPPING               4.259664\n",
       "SOCIAL                 4.255598\n",
       "SPORTS                 4.223511\n",
       "TOOLS                  4.047411\n",
       "TRAVEL_AND_LOCAL       4.109292\n",
       "VIDEO_PLAYERS          4.063750\n",
       "WEATHER                4.244000\n",
       "Name: Rating, dtype: float64"
      ]
     },
     "execution_count": 27,
     "metadata": {},
     "output_type": "execute_result"
    }
   ],
   "source": [
    "df.groupby([\"Category\"]).Rating.mean() # So we can see now average values are correct for all categries"
   ]
  },
  {
   "cell_type": "code",
   "execution_count": 28,
   "metadata": {},
   "outputs": [
    {
     "data": {
      "image/png": "[encoded data removed]",
      "text/plain": [
       "<Figure size 1080x720 with 1 Axes>"
      ]
     },
     "metadata": {
      "needs_background": "light"
     },
     "output_type": "display_data"
    }
   ],
   "source": [
    "plt.figure(figsize=(15,10))\n",
    "df.groupby([\"Category\"]).Rating.mean().plot(kind=\"bar\", rot=0, title=\"Pclass Vs Count\");\n",
    "plt.xticks(rotation='vertical');\n",
    "plt.xlabel(\"Category Name\")\n",
    "plt.ylabel(\"Avg. Rating\")\n",
    "plt.title(\"Category Vs Avg. Rating\")\n",
    "plt.plot();"
   ]
  },
  {
   "cell_type": "code",
   "execution_count": 29,
   "metadata": {},
   "outputs": [],
   "source": [
    "# so now we can see the average rating. As per our data average rating is almost same for all so bars are almost equal."
   ]
  },
  {
   "cell_type": "code",
   "execution_count": 30,
   "metadata": {},
   "outputs": [
    {
     "data": {
      "text/plain": [
       "Category           Installs      \n",
       "1.9                Free              4.193338\n",
       "ART_AND_DESIGN     0+                     NaN\n",
       "                   1,000+            4.366667\n",
       "                   1,000,000+        4.325000\n",
       "                   10,000+           4.445455\n",
       "                   10,000,000+       4.460000\n",
       "                   100+              5.000000\n",
       "                   100,000+          4.211111\n",
       "                   5,000+            4.375000\n",
       "                   5,000,000+        4.366667\n",
       "                   50,000+           4.333333\n",
       "                   50,000,000+       4.500000\n",
       "                   500,000+          4.450000\n",
       "AUTO_AND_VEHICLES  1+                     NaN\n",
       "                   1,000+            3.800000\n",
       "                   1,000,000+        4.361538\n",
       "                   10+                    NaN\n",
       "                   10,000+           4.333333\n",
       "                   10,000,000+       4.300000\n",
       "                   100+              3.500000\n",
       "                   100,000+          4.291304\n",
       "                   5+                     NaN\n",
       "                   5,000+            2.800000\n",
       "                   5,000,000+        4.433333\n",
       "                   50+                    NaN\n",
       "                   50,000+           4.300000\n",
       "                   500+              4.600000\n",
       "                   500,000+          4.160000\n",
       "BEAUTY             1,000+            4.000000\n",
       "                   1,000,000+        4.287500\n",
       "                                       ...   \n",
       "TRAVEL_AND_LOCAL   500+              4.625000\n",
       "                   500,000+          4.222222\n",
       "VIDEO_PLAYERS      1,000+            4.166667\n",
       "                   1,000,000+        4.093939\n",
       "                   1,000,000,000+    4.100000\n",
       "                   10+                    NaN\n",
       "                   10,000+           3.647059\n",
       "                   10,000,000+       4.306667\n",
       "                   100+              4.850000\n",
       "                   100,000+          4.069231\n",
       "                   100,000,000+      4.237500\n",
       "                   5,000+            3.500000\n",
       "                   5,000,000+        4.171429\n",
       "                   50,000+           3.842857\n",
       "                   50,000,000+       4.354545\n",
       "                   500+              4.000000\n",
       "                   500,000+          3.900000\n",
       "                   500,000,000+      4.500000\n",
       "WEATHER            1,000+            3.800000\n",
       "                   1,000,000+        4.233333\n",
       "                   10+                    NaN\n",
       "                   10,000+           4.100000\n",
       "                   10,000,000+       4.327273\n",
       "                   100,000+          4.206667\n",
       "                   5,000+            4.200000\n",
       "                   5,000,000+        4.112500\n",
       "                   50,000+           4.500000\n",
       "                   50,000,000+       4.420000\n",
       "                   500+              3.800000\n",
       "                   500,000+          4.428571\n",
       "Name: Rating, Length: 516, dtype: float64"
      ]
     },
     "execution_count": 30,
     "metadata": {},
     "output_type": "execute_result"
    }
   ],
   "source": [
    "df.groupby([\"Category\", \"Installs\"]).Rating.mean()"
   ]
  },
  {
   "cell_type": "code",
   "execution_count": 31,
   "metadata": {},
   "outputs": [
    {
     "data": {
      "text/plain": [
       "Free    10039\n",
       "Paid      800\n",
       "0           1\n",
       "Name: Type, dtype: int64"
      ]
     },
     "execution_count": 31,
     "metadata": {},
     "output_type": "execute_result"
    }
   ],
   "source": [
    "# Lets find out how many apps are paid or free.\n",
    "df.Type.value_counts()"
   ]
  },
  {
   "cell_type": "code",
   "execution_count": 32,
   "metadata": {},
   "outputs": [
    {
     "data": {
      "image/png": "[encoded data removed]",
      "text/plain": [
       "<Figure size 1080x720 with 1 Axes>"
      ]
     },
     "metadata": {
      "needs_background": "light"
     },
     "output_type": "display_data"
    }
   ],
   "source": [
    "plt.figure(figsize=(15, 10));\n",
    "df.Type.value_counts().plot(kind=\"bar\");\n",
    "plt.xlabel(\"License Type\");\n",
    "plt.ylabel(\"Counts\")\n",
    "plt.title(\"License Type Vs Counts\")\n",
    "plt.plot();"
   ]
  },
  {
   "cell_type": "code",
   "execution_count": 33,
   "metadata": {},
   "outputs": [],
   "source": [
    "#So from our above diagrame we can see we have huge number of free apps."
   ]
  },
  {
   "cell_type": "code",
   "execution_count": 34,
   "metadata": {},
   "outputs": [
    {
     "data": {
      "text/plain": [
       "Index(['App', 'Category', 'Rating', 'Reviews', 'Size', 'Installs', 'Type',\n",
       "       'Price', 'Content Rating', 'Genres', 'Last Updated', 'Current Ver',\n",
       "       'Android Ver'],\n",
       "      dtype='object')"
      ]
     },
     "execution_count": 34,
     "metadata": {},
     "output_type": "execute_result"
    }
   ],
   "source": [
    "# Lets try to find out the content rating.. that mean how many adult apps are there or how many non-adult apps.\n",
    "df.columns # it will select content rating column\n"
   ]
  },
  {
   "cell_type": "code",
   "execution_count": 35,
   "metadata": {},
   "outputs": [
    {
     "data": {
      "text/plain": [
       "Everyone           8714\n",
       "Teen               1208\n",
       "Mature 17+          499\n",
       "Everyone 10+        414\n",
       "Adults only 18+       3\n",
       "Unrated               2\n",
       "Name: Content Rating, dtype: int64"
      ]
     },
     "execution_count": 35,
     "metadata": {},
     "output_type": "execute_result"
    }
   ],
   "source": [
    "df['Content Rating'].value_counts() # you can see we have 6 categories in content rating."
   ]
  },
  {
   "cell_type": "code",
   "execution_count": 36,
   "metadata": {},
   "outputs": [
    {
     "data": {
      "image/png": "[encoded data removed]",
      "text/plain": [
       "<Figure size 1500x1000 with 1 Axes>"
      ]
     },
     "metadata": {
      "needs_background": "light"
     },
     "output_type": "display_data"
    }
   ],
   "source": [
    "plt.figure(figsize=(15, 10), dpi=100, );\n",
    "df[\"Content Rating\"].value_counts().plot(kind=\"bar\");\n",
    "plt.title(\"Content Vs Total Count\");\n",
    "plt.xlabel(\"Content Type\");\n",
    "plt.ylabel(\"Count\");\n",
    "plt.ylim(bottom=-10);\n",
    "plt.plot();"
   ]
  },
  {
   "cell_type": "code",
   "execution_count": 37,
   "metadata": {},
   "outputs": [],
   "source": [
    "# Actually you can see last two bars are almost hidden because the value is very less."
   ]
  },
  {
   "cell_type": "code",
   "execution_count": 38,
   "metadata": {},
   "outputs": [
    {
     "data": {
      "text/plain": [
       "4.1 and up            2451\n",
       "4.0.3 and up          1501\n",
       "4.0 and up            1375\n",
       "Varies with device    1362\n",
       "4.4 and up             980\n",
       "2.3 and up             652\n",
       "5.0 and up             601\n",
       "4.2 and up             394\n",
       "2.3.3 and up           281\n",
       "2.2 and up             244\n",
       "4.3 and up             243\n",
       "3.0 and up             241\n",
       "2.1 and up             134\n",
       "1.6 and up             116\n",
       "6.0 and up              60\n",
       "7.0 and up              42\n",
       "3.2 and up              36\n",
       "2.0 and up              32\n",
       "5.1 and up              24\n",
       "1.5 and up              20\n",
       "4.4W and up             12\n",
       "3.1 and up              10\n",
       "2.0.1 and up             7\n",
       "8.0 and up               6\n",
       "7.1 and up               3\n",
       "5.0 - 8.0                2\n",
       "4.0.3 - 7.1.1            2\n",
       "1.0 and up               2\n",
       "4.1 - 7.1.1              1\n",
       "7.0 - 7.1.1              1\n",
       "2.2 - 7.1.1              1\n",
       "5.0 - 6.0                1\n",
       "5.0 - 7.1.1              1\n",
       "Name: Android Ver, dtype: int64"
      ]
     },
     "execution_count": 38,
     "metadata": {},
     "output_type": "execute_result"
    }
   ],
   "source": [
    "# now lets see apps grouped by os version \n",
    "df[\"Android Ver\"].value_counts()"
   ]
  },
  {
   "cell_type": "code",
   "execution_count": 39,
   "metadata": {},
   "outputs": [
    {
     "data": {
      "text/html": [
       "<div>\n",
       "<style scoped>\n",
       "    .dataframe tbody tr th:only-of-type {\n",
       "        vertical-align: middle;\n",
       "    }\n",
       "\n",
       "    .dataframe tbody tr th {\n",
       "        vertical-align: top;\n",
       "    }\n",
       "\n",
       "    .dataframe thead th {\n",
       "        text-align: right;\n",
       "    }\n",
       "</style>\n",
       "<table border=\"1\" class=\"dataframe\">\n",
       "  <thead>\n",
       "    <tr style=\"text-align: right;\">\n",
       "      <th></th>\n",
       "      <th>App</th>\n",
       "      <th>Category</th>\n",
       "      <th>Rating</th>\n",
       "      <th>Reviews</th>\n",
       "      <th>Size</th>\n",
       "      <th>Installs</th>\n",
       "      <th>Type</th>\n",
       "      <th>Price</th>\n",
       "      <th>Content Rating</th>\n",
       "      <th>Genres</th>\n",
       "      <th>Last Updated</th>\n",
       "      <th>Current Ver</th>\n",
       "      <th>Android Ver</th>\n",
       "    </tr>\n",
       "  </thead>\n",
       "  <tbody>\n",
       "    <tr>\n",
       "      <th>8919</th>\n",
       "      <td>Bible du Semeur-BDS (French)</td>\n",
       "      <td>BOOKS_AND_REFERENCE</td>\n",
       "      <td>4.5</td>\n",
       "      <td>313</td>\n",
       "      <td>6.9M</td>\n",
       "      <td>50,000+</td>\n",
       "      <td>Free</td>\n",
       "      <td>0</td>\n",
       "      <td>Everyone</td>\n",
       "      <td>Books &amp; Reference</td>\n",
       "      <td>August 4, 2018</td>\n",
       "      <td>0.7</td>\n",
       "      <td>1.0 and up</td>\n",
       "    </tr>\n",
       "    <tr>\n",
       "      <th>9212</th>\n",
       "      <td>Tamilnadu Electricity Info</td>\n",
       "      <td>TOOLS</td>\n",
       "      <td>3.6</td>\n",
       "      <td>216</td>\n",
       "      <td>811k</td>\n",
       "      <td>10,000+</td>\n",
       "      <td>Free</td>\n",
       "      <td>0</td>\n",
       "      <td>Everyone</td>\n",
       "      <td>Tools</td>\n",
       "      <td>November 9, 2014</td>\n",
       "      <td>2.0</td>\n",
       "      <td>1.0 and up</td>\n",
       "    </tr>\n",
       "  </tbody>\n",
       "</table>\n",
       "</div>"
      ],
      "text/plain": [
       "                               App     ...     Android Ver\n",
       "8919  Bible du Semeur-BDS (French)     ...      1.0 and up\n",
       "9212    Tamilnadu Electricity Info     ...      1.0 and up\n",
       "\n",
       "[2 rows x 13 columns]"
      ]
     },
     "execution_count": 39,
     "metadata": {},
     "output_type": "execute_result"
    }
   ],
   "source": [
    "df[df[\"Android Ver\"] == '1.0 and up'] # we can verify the above data by using this command. You can\n",
    "# simply replace the value of OS and get the number."
   ]
  },
  {
   "cell_type": "code",
   "execution_count": 40,
   "metadata": {},
   "outputs": [
    {
     "data": {
      "image/png": "[encoded data removed]",
      "text/plain": [
       "<Figure size 1080x720 with 1 Axes>"
      ]
     },
     "metadata": {
      "needs_background": "light"
     },
     "output_type": "display_data"
    }
   ],
   "source": [
    "plt.figure(figsize=(15, 10));\n",
    "plt.xlabel(\"Anroid Version\");\n",
    "plt.ylabel(\"Total Apps\");\n",
    "plt.title(\"Android Version Vs Total Conts\");\n",
    "df[\"Android Ver\"].value_counts().plot(kind=\"bar\");\n",
    "plt.plot();"
   ]
  },
  {
   "cell_type": "code",
   "execution_count": 41,
   "metadata": {},
   "outputs": [
    {
     "data": {
      "text/plain": [
       "4.1 and up            0.226149\n",
       "4.0.3 and up          0.138494\n",
       "4.0 and up            0.126868\n",
       "Varies with device    0.125669\n",
       "4.4 and up            0.090423\n",
       "2.3 and up            0.060159\n",
       "5.0 and up            0.055453\n",
       "4.2 and up            0.036354\n",
       "2.3.3 and up          0.025927\n",
       "2.2 and up            0.022513\n",
       "4.3 and up            0.022421\n",
       "3.0 and up            0.022237\n",
       "2.1 and up            0.012364\n",
       "1.6 and up            0.010703\n",
       "6.0 and up            0.005536\n",
       "7.0 and up            0.003875\n",
       "3.2 and up            0.003322\n",
       "2.0 and up            0.002953\n",
       "5.1 and up            0.002214\n",
       "1.5 and up            0.001845\n",
       "4.4W and up           0.001107\n",
       "3.1 and up            0.000923\n",
       "2.0.1 and up          0.000646\n",
       "8.0 and up            0.000554\n",
       "7.1 and up            0.000277\n",
       "5.0 - 8.0             0.000185\n",
       "4.0.3 - 7.1.1         0.000185\n",
       "1.0 and up            0.000185\n",
       "4.1 - 7.1.1           0.000092\n",
       "7.0 - 7.1.1           0.000092\n",
       "2.2 - 7.1.1           0.000092\n",
       "5.0 - 6.0             0.000092\n",
       "5.0 - 7.1.1           0.000092\n",
       "Name: Android Ver, dtype: float64"
      ]
     },
     "execution_count": 41,
     "metadata": {},
     "output_type": "execute_result"
    }
   ],
   "source": [
    "df[\"Android Ver\"].value_counts(normalize=True) # You can get the percentage"
   ]
  },
  {
   "cell_type": "code",
   "execution_count": 42,
   "metadata": {},
   "outputs": [
    {
     "data": {
      "text/plain": [
       "Tools                                  842\n",
       "Entertainment                          623\n",
       "Education                              549\n",
       "Medical                                463\n",
       "Business                               460\n",
       "Productivity                           424\n",
       "Sports                                 398\n",
       "Personalization                        392\n",
       "Communication                          387\n",
       "Lifestyle                              381\n",
       "Finance                                366\n",
       "Action                                 365\n",
       "Health & Fitness                       341\n",
       "Photography                            335\n",
       "Social                                 295\n",
       "News & Magazines                       283\n",
       "Shopping                               260\n",
       "Travel & Local                         257\n",
       "Dating                                 234\n",
       "Books & Reference                      231\n",
       "Arcade                                 220\n",
       "Simulation                             200\n",
       "Casual                                 193\n",
       "Video Players & Editors                173\n",
       "Puzzle                                 140\n",
       "Maps & Navigation                      137\n",
       "Food & Drink                           127\n",
       "Role Playing                           109\n",
       "Strategy                               107\n",
       "Racing                                  98\n",
       "                                      ... \n",
       "Video Players & Editors;Creativity       2\n",
       "Art & Design;Action & Adventure          2\n",
       "Puzzle;Creativity                        2\n",
       "Card;Action & Adventure                  2\n",
       "Adventure;Education                      2\n",
       "Strategy;Action & Adventure              2\n",
       "Role Playing;Education                   1\n",
       "Tools;Education                          1\n",
       "Puzzle;Education                         1\n",
       "Adventure;Brain Games                    1\n",
       "Card;Brain Games                         1\n",
       "Racing;Pretend Play                      1\n",
       "Trivia;Education                         1\n",
       "Comics;Creativity                        1\n",
       "Lifestyle;Pretend Play                   1\n",
       "February 11, 2018                        1\n",
       "Health & Fitness;Action & Adventure      1\n",
       "Lifestyle;Education                      1\n",
       "Health & Fitness;Education               1\n",
       "Entertainment;Education                  1\n",
       "Communication;Creativity                 1\n",
       "Books & Reference;Creativity             1\n",
       "Arcade;Pretend Play                      1\n",
       "Role Playing;Brain Games                 1\n",
       "Strategy;Creativity                      1\n",
       "Board;Pretend Play                       1\n",
       "Travel & Local;Action & Adventure        1\n",
       "Strategy;Education                       1\n",
       "Parenting;Brain Games                    1\n",
       "Music & Audio;Music & Video              1\n",
       "Name: Genres, Length: 120, dtype: int64"
      ]
     },
     "execution_count": 42,
     "metadata": {},
     "output_type": "execute_result"
    }
   ],
   "source": [
    "df[\"Genres\"].value_counts() # here can find all the genres.. Try its plot yourself"
   ]
  },
  {
   "cell_type": "code",
   "execution_count": 43,
   "metadata": {},
   "outputs": [
    {
     "data": {
      "image/png": "[encoded data removed]",
      "text/plain": [
       "<Figure size 1080x720 with 1 Axes>"
      ]
     },
     "metadata": {
      "needs_background": "light"
     },
     "output_type": "display_data"
    }
   ],
   "source": [
    "# Lets plot top 10 genres\n",
    "plt.figure(figsize=(15, 10));\n",
    "df[\"Genres\"].value_counts().head(10).plot(kind=\"bar\");\n",
    "#df.groupby([\"Genres\"])..head(10).plot(kind=\"bar\");\n",
    "plt.title(\"Top 10 Genres\");\n",
    "plt.xlabel(\"Genres\");\n",
    "plt.ylabel(\"Count\");\n",
    "plt.plot();"
   ]
  },
  {
   "cell_type": "code",
   "execution_count": 44,
   "metadata": {},
   "outputs": [
    {
     "data": {
      "text/html": [
       "<div>\n",
       "<style scoped>\n",
       "    .dataframe tbody tr th:only-of-type {\n",
       "        vertical-align: middle;\n",
       "    }\n",
       "\n",
       "    .dataframe tbody tr th {\n",
       "        vertical-align: top;\n",
       "    }\n",
       "\n",
       "    .dataframe thead th {\n",
       "        text-align: right;\n",
       "    }\n",
       "</style>\n",
       "<table border=\"1\" class=\"dataframe\">\n",
       "  <thead>\n",
       "    <tr style=\"text-align: right;\">\n",
       "      <th></th>\n",
       "      <th>App</th>\n",
       "      <th>Category</th>\n",
       "      <th>Rating</th>\n",
       "      <th>Reviews</th>\n",
       "      <th>Size</th>\n",
       "      <th>Installs</th>\n",
       "      <th>Type</th>\n",
       "      <th>Price</th>\n",
       "      <th>Content Rating</th>\n",
       "      <th>Genres</th>\n",
       "      <th>Last Updated</th>\n",
       "      <th>Current Ver</th>\n",
       "      <th>Android Ver</th>\n",
       "    </tr>\n",
       "  </thead>\n",
       "  <tbody>\n",
       "    <tr>\n",
       "      <th>3702</th>\n",
       "      <td>Cartoon Network App</td>\n",
       "      <td>VIDEO_PLAYERS</td>\n",
       "      <td>4.0</td>\n",
       "      <td>119202</td>\n",
       "      <td>Varies with device</td>\n",
       "      <td>10,000,000+</td>\n",
       "      <td>Free</td>\n",
       "      <td>0</td>\n",
       "      <td>Everyone 10+</td>\n",
       "      <td>Video Players &amp; Editors;Music &amp; Video</td>\n",
       "      <td>June 21, 2018</td>\n",
       "      <td>Varies with device</td>\n",
       "      <td>Varies with device</td>\n",
       "    </tr>\n",
       "    <tr>\n",
       "      <th>5861</th>\n",
       "      <td>Masha and The Bear</td>\n",
       "      <td>FAMILY</td>\n",
       "      <td>4.0</td>\n",
       "      <td>39779</td>\n",
       "      <td>19M</td>\n",
       "      <td>5,000,000+</td>\n",
       "      <td>Free</td>\n",
       "      <td>0</td>\n",
       "      <td>Everyone</td>\n",
       "      <td>Video Players &amp; Editors;Music &amp; Video</td>\n",
       "      <td>August 5, 2016</td>\n",
       "      <td>4.0.1</td>\n",
       "      <td>4.0.3 and up</td>\n",
       "    </tr>\n",
       "    <tr>\n",
       "      <th>7582</th>\n",
       "      <td>Cartoon Network App</td>\n",
       "      <td>FAMILY</td>\n",
       "      <td>4.0</td>\n",
       "      <td>119173</td>\n",
       "      <td>Varies with device</td>\n",
       "      <td>10,000,000+</td>\n",
       "      <td>Free</td>\n",
       "      <td>0</td>\n",
       "      <td>Everyone 10+</td>\n",
       "      <td>Video Players &amp; Editors;Music &amp; Video</td>\n",
       "      <td>June 21, 2018</td>\n",
       "      <td>Varies with device</td>\n",
       "      <td>Varies with device</td>\n",
       "    </tr>\n",
       "  </tbody>\n",
       "</table>\n",
       "</div>"
      ],
      "text/plain": [
       "                      App         ...                 Android Ver\n",
       "3702  Cartoon Network App         ...          Varies with device\n",
       "5861   Masha and The Bear         ...                4.0.3 and up\n",
       "7582  Cartoon Network App         ...          Varies with device\n",
       "\n",
       "[3 rows x 13 columns]"
      ]
     },
     "execution_count": 44,
     "metadata": {},
     "output_type": "execute_result"
    }
   ],
   "source": [
    "# you can verify using below statement.\n",
    "# So found the genre wise installs\n",
    "df[df[\"Genres\"] == 'Video Players & Editors;Music & Video']"
   ]
  },
  {
   "cell_type": "code",
   "execution_count": 45,
   "metadata": {},
   "outputs": [
    {
     "data": {
      "text/html": [
       "<div>\n",
       "<style scoped>\n",
       "    .dataframe tbody tr th:only-of-type {\n",
       "        vertical-align: middle;\n",
       "    }\n",
       "\n",
       "    .dataframe tbody tr th {\n",
       "        vertical-align: top;\n",
       "    }\n",
       "\n",
       "    .dataframe thead th {\n",
       "        text-align: right;\n",
       "    }\n",
       "</style>\n",
       "<table border=\"1\" class=\"dataframe\">\n",
       "  <thead>\n",
       "    <tr style=\"text-align: right;\">\n",
       "      <th></th>\n",
       "      <th>App</th>\n",
       "      <th>Category</th>\n",
       "      <th>Rating</th>\n",
       "      <th>Reviews</th>\n",
       "      <th>Size</th>\n",
       "      <th>Installs</th>\n",
       "      <th>Type</th>\n",
       "      <th>Price</th>\n",
       "      <th>Content Rating</th>\n",
       "      <th>Genres</th>\n",
       "      <th>Last Updated</th>\n",
       "      <th>Current Ver</th>\n",
       "      <th>Android Ver</th>\n",
       "    </tr>\n",
       "  </thead>\n",
       "  <tbody>\n",
       "  </tbody>\n",
       "</table>\n",
       "</div>"
      ],
      "text/plain": [
       "Empty DataFrame\n",
       "Columns: [App, Category, Rating, Reviews, Size, Installs, Type, Price, Content Rating, Genres, Last Updated, Current Ver, Android Ver]\n",
       "Index: []"
      ]
     },
     "execution_count": 45,
     "metadata": {},
     "output_type": "execute_result"
    }
   ],
   "source": [
    "# We need to change the dtype of review but there is one column whih contains 3.0M\n",
    "df.Reviews.replace(\"3.0M\", '3000000', inplace=True)\n",
    "df[df.Reviews == \"3.0M\"]"
   ]
  },
  {
   "cell_type": "code",
   "execution_count": 46,
   "metadata": {},
   "outputs": [],
   "source": [
    "df.Reviews = df.Reviews.astype(\"float\") # lets change the datatype of Ratings"
   ]
  },
  {
   "cell_type": "code",
   "execution_count": 47,
   "metadata": {},
   "outputs": [],
   "source": [
    "\n",
    "df_new = df.groupby([\"Genres\", \"Category\"], as_index=False).sum()[[\"Genres\", \"Category\", \"Reviews\"]].sort_values(by=\"Reviews\", ascending=False).head(10)\n"
   ]
  },
  {
   "cell_type": "code",
   "execution_count": 48,
   "metadata": {},
   "outputs": [
    {
     "data": {
      "text/html": [
       "<div>\n",
       "<style scoped>\n",
       "    .dataframe tbody tr th:only-of-type {\n",
       "        vertical-align: middle;\n",
       "    }\n",
       "\n",
       "    .dataframe tbody tr th {\n",
       "        vertical-align: top;\n",
       "    }\n",
       "\n",
       "    .dataframe thead th {\n",
       "        text-align: right;\n",
       "    }\n",
       "</style>\n",
       "<table border=\"1\" class=\"dataframe\">\n",
       "  <thead>\n",
       "    <tr style=\"text-align: right;\">\n",
       "      <th></th>\n",
       "      <th>Genres</th>\n",
       "      <th>Category</th>\n",
       "      <th>Reviews</th>\n",
       "    </tr>\n",
       "  </thead>\n",
       "  <tbody>\n",
       "    <tr>\n",
       "      <th>46</th>\n",
       "      <td>Communication</td>\n",
       "      <td>COMMUNICATION</td>\n",
       "      <td>815462260.0</td>\n",
       "    </tr>\n",
       "    <tr>\n",
       "      <th>128</th>\n",
       "      <td>Social</td>\n",
       "      <td>SOCIAL</td>\n",
       "      <td>621241422.0</td>\n",
       "    </tr>\n",
       "    <tr>\n",
       "      <th>0</th>\n",
       "      <td>Action</td>\n",
       "      <td>GAME</td>\n",
       "      <td>350303953.0</td>\n",
       "    </tr>\n",
       "    <tr>\n",
       "      <th>8</th>\n",
       "      <td>Arcade</td>\n",
       "      <td>GAME</td>\n",
       "      <td>336990433.0</td>\n",
       "    </tr>\n",
       "    <tr>\n",
       "      <th>33</th>\n",
       "      <td>Casual</td>\n",
       "      <td>GAME</td>\n",
       "      <td>308028000.0</td>\n",
       "    </tr>\n",
       "    <tr>\n",
       "      <th>137</th>\n",
       "      <td>Tools</td>\n",
       "      <td>TOOLS</td>\n",
       "      <td>272842708.0</td>\n",
       "    </tr>\n",
       "    <tr>\n",
       "      <th>133</th>\n",
       "      <td>Strategy</td>\n",
       "      <td>GAME</td>\n",
       "      <td>230117074.0</td>\n",
       "    </tr>\n",
       "    <tr>\n",
       "      <th>103</th>\n",
       "      <td>Photography</td>\n",
       "      <td>PHOTOGRAPHY</td>\n",
       "      <td>213516650.0</td>\n",
       "    </tr>\n",
       "    <tr>\n",
       "      <th>129</th>\n",
       "      <td>Sports</td>\n",
       "      <td>GAME</td>\n",
       "      <td>122047448.0</td>\n",
       "    </tr>\n",
       "    <tr>\n",
       "      <th>120</th>\n",
       "      <td>Shopping</td>\n",
       "      <td>SHOPPING</td>\n",
       "      <td>115041222.0</td>\n",
       "    </tr>\n",
       "  </tbody>\n",
       "</table>\n",
       "</div>"
      ],
      "text/plain": [
       "            Genres       Category      Reviews\n",
       "46   Communication  COMMUNICATION  815462260.0\n",
       "128         Social         SOCIAL  621241422.0\n",
       "0           Action           GAME  350303953.0\n",
       "8           Arcade           GAME  336990433.0\n",
       "33          Casual           GAME  308028000.0\n",
       "137          Tools          TOOLS  272842708.0\n",
       "133       Strategy           GAME  230117074.0\n",
       "103    Photography    PHOTOGRAPHY  213516650.0\n",
       "129         Sports           GAME  122047448.0\n",
       "120       Shopping       SHOPPING  115041222.0"
      ]
     },
     "execution_count": 48,
     "metadata": {},
     "output_type": "execute_result"
    }
   ],
   "source": [
    "df_new"
   ]
  },
  {
   "cell_type": "code",
   "execution_count": 49,
   "metadata": {},
   "outputs": [
    {
     "data": {
      "image/png": "[encoded data removed]",
      "text/plain": [
       "<Figure size 1080x720 with 1 Axes>"
      ]
     },
     "metadata": {
      "needs_background": "light"
     },
     "output_type": "display_data"
    }
   ],
   "source": [
    "# Below diagram shows the ;top 10 famous genres as per there review counts\n",
    "plt.figure(figsize=(15, 10));\n",
    "plt.title(\"Top 10 Most Reviewed Genres\");\n",
    "plt.xlabel(\"Genres\");\n",
    "plt.ylabel(\"Count\");\n",
    "df_new.groupby(\"Genres\").Reviews.sum().sort_values(ascending=False).plot(kind='bar');\n",
    "plt.plot();"
   ]
  },
  {
   "cell_type": "markdown",
   "metadata": {},
   "source": [
    "### Thank you for visting my code. If there is anything missing or wrong, please feel free to inform me. Also like my page on fb: https://www.facebook.com/codemakerz"
   ]
  },
  {
   "cell_type": "code",
   "execution_count": null,
   "metadata": {},
   "outputs": [],
   "source": []
  }
 ],
 "metadata": {
  "kernelspec": {
   "display_name": "Python 3",
   "language": "python",
   "name": "python3"
  },
  "language_info": {
   "codemirror_mode": {
    "name": "ipython",
    "version": 3
   },
   "file_extension": ".py",
   "mimetype": "text/x-python",
   "name": "python",
   "nbconvert_exporter": "python",
   "pygments_lexer": "ipython3",
   "version": "3.6.6"
  }
 },
 "nbformat": 4,
 "nbformat_minor": 1
}
